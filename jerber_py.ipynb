{
 "cells": [
  {
   "cell_type": "code",
   "execution_count": 2,
   "id": "817077d3-8b07-487a-8e09-d37a9a202626",
   "metadata": {},
   "outputs": [],
   "source": [
    "import numpy as np\n",
    "from collections import Counter\n",
    "import h5py\n",
    "import numpy as np\n",
    "import pandas as pd\n",
    "import scanpy as sc\n",
    "import scipy.sparse as sp\n",
    "import scipy.io as sio\n",
    "import anndata\n",
    "import json\n",
    "import os\n",
    "import seaborn as sns\n",
    "import matplotlib.pyplot as plt\n",
    "\n",
    "DATA_PATH = \"/storage10/shuchen/JerberData/\"\n",
    "FP_DAY11 = os.path.join(DATA_PATH, \"day11.h5\")\n",
    "FP_DAY30 = os.path.join(DATA_PATH, \"day30.h5\")\n",
    "FP_DAY52 = os.path.join(DATA_PATH, \"day52.h5\")\n",
    "FP_ALLTIME_SUB = os.path.join(DATA_PATH, \"all_timepoints_subsampled.h5\")\n",
    "FP_FIAJ = os.path.join(DATA_PATH, \"alltime_fiaj_12100_5000.h5\")"
   ]
  },
  {
   "cell_type": "code",
   "execution_count": 3,
   "id": "5bfd7d4b-43c5-4d08-b645-908bb42bac64",
   "metadata": {},
   "outputs": [],
   "source": [
    "adata = anndata.read_h5ad(FP_ALLTIME_SUB)"
   ]
  },
  {
   "cell_type": "code",
   "execution_count": 33,
   "id": "38627fc6-5d2a-4674-b3d9-85ba4e87d984",
   "metadata": {},
   "outputs": [
    {
     "data": {
      "text/plain": [
       "pandas.core.series.Series"
      ]
     },
     "execution_count": 33,
     "metadata": {},
     "output_type": "execute_result"
    }
   ],
   "source": [
    "type(adata.obs.celltype==\"DA\")"
   ]
  },
  {
   "cell_type": "code",
   "execution_count": 36,
   "id": "8cdc7958-bb69-4d92-b389-959343e85cee",
   "metadata": {},
   "outputs": [
    {
     "data": {
      "text/plain": [
       "index\n",
       "TTCCCAGGTTCCATGA-1-0      False\n",
       "AACCGCGAGGTCATCT-1-0      False\n",
       "TCACAAGTCTTATCTG-1-0      False\n",
       "TACCTTACACGGTTTA-1-0      False\n",
       "CCTAGCTAGCGCCTTG-1-0      False\n",
       "                          ...  \n",
       "GGGCATCTCAACGCTA-1-150     True\n",
       "GGCCGATGTGTCCTCT-1-150     True\n",
       "GCGCAGTTCACGAAGG-1-150     True\n",
       "GCGCAGTAGGAATGGA-1-150     True\n",
       "GTCCTCATCTAACTTC-1-150     True\n",
       "Name: time_point, Length: 205416, dtype: bool"
      ]
     },
     "execution_count": 36,
     "metadata": {},
     "output_type": "execute_result"
    }
   ],
   "source": [
    "adata.obs.time_point==\"D52\""
   ]
  },
  {
   "cell_type": "code",
   "execution_count": 39,
   "id": "0e07e58b-c868-4846-a724-5efda6052e19",
   "metadata": {},
   "outputs": [
    {
     "data": {
      "text/plain": [
       "5055"
      ]
     },
     "execution_count": 39,
     "metadata": {},
     "output_type": "execute_result"
    }
   ],
   "source": [
    "np.sum((adata.obs.treatment==\"ROT\").astype(bool) & (adata.obs.celltype==\"DA\").astype(bool))"
   ]
  },
  {
   "cell_type": "code",
   "execution_count": 4,
   "id": "fc0b31c3-7271-46a7-bcdb-b317e63e0a54",
   "metadata": {},
   "outputs": [
    {
     "data": {
      "text/plain": [
       "AnnData object with n_obs × n_vars = 205416 × 32738\n",
       "    obs: 'sample_index', 'sample_id', 'donor_id', 'cluster_id', 'celltype', 'time_point', 'pool_id', 'treatment'\n",
       "    obsm: 'X_umap'"
      ]
     },
     "execution_count": 4,
     "metadata": {},
     "output_type": "execute_result"
    }
   ],
   "source": [
    "adata"
   ]
  },
  {
   "cell_type": "code",
   "execution_count": 47,
   "id": "0c25668d-c8ef-4b47-9b94-15654a3f3e97",
   "metadata": {
    "scrolled": true
   },
   "outputs": [
    {
     "data": {
      "text/plain": [
       "array(['HPSI0114i-bezi_3', 'HPSI0114i-eipl_1', 'HPSI0114i-fikt_3',\n",
       "       'HPSI0114i-kolf_2', 'HPSI0114i-lexy_2', 'HPSI0114i-posc_1',\n",
       "       'HPSI0114i-rozh_4', 'HPSI0114i-vass_1', 'HPSI0114i-wegi_1',\n",
       "       'HPSI0114i-zapk_2', 'HPSI0115i-aion_2', 'HPSI0115i-aoxv_1',\n",
       "       'HPSI0115i-bimq_4', 'HPSI0115i-boqx_2', 'HPSI0115i-gifk_1',\n",
       "       'HPSI0115i-gost_2', 'HPSI0115i-hecn_6', 'HPSI0115i-iiyk_2',\n",
       "       'HPSI0115i-iuad_2', 'HPSI0115i-jakt_1', 'HPSI0115i-jotn_2',\n",
       "       'HPSI0115i-kozf_1', 'HPSI0115i-melw_1', 'HPSI0115i-paim_1',\n",
       "       'HPSI0115i-pitg_2', 'HPSI0115i-qecv_2', 'HPSI0115i-quze_6',\n",
       "       'HPSI0115i-sehp_2', 'HPSI0115i-tiku_3', 'HPSI0115i-timk_4',\n",
       "       'HPSI0115i-uupc_2', 'HPSI0115i-zihe_1', 'HPSI0213i-nawk_55',\n",
       "       'HPSI0214i-datg_2', 'HPSI0214i-eiwy_1', 'HPSI0214i-feec_2',\n",
       "       'HPSI0214i-giju_3', 'HPSI0214i-heth_1', 'HPSI0214i-kucg_2',\n",
       "       'HPSI0214i-pelm_3', 'HPSI0214i-poih_2', 'HPSI0214i-rayr_1',\n",
       "       'HPSI0215i-deyz_2', 'HPSI0215i-fawm_2', 'HPSI0215i-hipn_1',\n",
       "       'HPSI0215i-oilg_1', 'HPSI0215i-romx_1', 'HPSI0215i-uiao_2',\n",
       "       'HPSI0215i-yoch_6', 'HPSI0215i-zett_5', 'HPSI0314i-bubh_3',\n",
       "       'HPSI0314i-cuhk_2', 'HPSI0314i-hoik_1', 'HPSI0314i-qaqx_1',\n",
       "       'HPSI0314i-sojd_3', 'HPSI0314i-uict_1', 'HPSI0314i-wigw_2',\n",
       "       'HPSI0314i-xagu_1', 'HPSI0314i-xugn_2', 'HPSI0413i-corn_1',\n",
       "       'HPSI0413i-coxy_33', 'HPSI0413i-nudd_1', 'HPSI0413i-peop_4',\n",
       "       'HPSI0413i-yotv_2', 'HPSI0414i-ceik_1', 'HPSI0414i-gesg_2',\n",
       "       'HPSI0414i-mita_1', 'HPSI0414i-oaqd_2', 'HPSI0414i-sebn_3',\n",
       "       'HPSI0414i-seru_1', 'HPSI0414i-uawq_2', 'HPSI0414i-voqc_2',\n",
       "       'HPSI0414i-xojn_3', 'HPSI0513i-aipt_33', 'HPSI0513i-debk_9',\n",
       "       'HPSI0513i-dipe_1', 'HPSI0513i-dulv_1', 'HPSI0513i-fejf_2',\n",
       "       'HPSI0513i-giuf_1', 'HPSI0513i-momt_2', 'HPSI0513i-oarz_22',\n",
       "       'HPSI0513i-oibg_1', 'HPSI0513i-pedc_1', 'HPSI0513i-sucd_3',\n",
       "       'HPSI0513i-suzg_3', 'HPSI0513i-uoxz_4', 'HPSI0513i-veve_2',\n",
       "       'HPSI0514i-fiaj_1', 'HPSI0514i-lako_1', 'HPSI0514i-letw_1',\n",
       "       'HPSI0514i-naah_2', 'HPSI0514i-oekw_2', 'HPSI0514i-oupf_6',\n",
       "       'HPSI0514i-puie_4', 'HPSI0514i-qihv_1', 'HPSI0514i-rutc_2',\n",
       "       'HPSI0514i-sohd_2', 'HPSI0514i-suul_1', 'HPSI0514i-tert_1',\n",
       "       'HPSI0514i-uenn_3', 'HPSI0514i-wiii_3', 'HPSI0514i-yewo_4',\n",
       "       'HPSI0613i-aevs_1', 'HPSI0613i-bawa_1', 'HPSI0613i-bohf_1',\n",
       "       'HPSI0613i-eojr_2', 'HPSI0613i-hegp_3', 'HPSI0613i-hikj_2',\n",
       "       'HPSI0613i-liun_22', 'HPSI0613i-lizq_3', 'HPSI0613i-nukw_1',\n",
       "       'HPSI0613i-oesx_3', 'HPSI0613i-oomz_22', 'HPSI0613i-qanu_1',\n",
       "       'HPSI0613i-qony_1', 'HPSI0613i-ueah_4', 'HPSI0613i-xavk_3',\n",
       "       'HPSI0614i-juzt_4', 'HPSI0614i-liqa_1', 'HPSI0614i-lirf_5',\n",
       "       'HPSI0614i-miaj_4', 'HPSI0614i-oicx_2', 'HPSI0614i-paab_3',\n",
       "       'HPSI0614i-puhk_2', 'HPSI0614i-qunz_2', 'HPSI0614i-uevq_6',\n",
       "       'HPSI0614i-voce_1', 'HPSI0614i-wihj_4', 'HPSI0614i-xubw_1',\n",
       "       'HPSI0713i-aehn_22', 'HPSI0713i-dard_1', 'HPSI0713i-fett_3',\n",
       "       'HPSI0713i-nemb_1', 'HPSI0713i-nocf_2', 'HPSI0713i-pusf_3',\n",
       "       'HPSI0713i-terl_1', 'HPSI0713i-uimo_1', 'HPSI0713i-veku_2',\n",
       "       'HPSI0713i-wiol_1', 'HPSI0714i-burb_1', 'HPSI0714i-iudw_1',\n",
       "       'HPSI0714i-jilk_4', 'HPSI0714i-keui_4', 'HPSI0714i-kute_5',\n",
       "       'HPSI0714i-oatm_1', 'HPSI0714i-pipw_4', 'HPSI0715i-aowh_2',\n",
       "       'HPSI0715i-meue_5', 'HPSI0715i-zaie_5', 'HPSI0813i-aizi_3',\n",
       "       'HPSI0813i-civh_1', 'HPSI0813i-ffdc_1', 'HPSI0813i-guss_1',\n",
       "       'HPSI0813i-iill_3', 'HPSI0813i-mioj_1', 'HPSI0813i-peoj_1',\n",
       "       'HPSI0813i-uaqe_1', 'HPSI0813i-vajx_2', 'HPSI0813i-wots_3',\n",
       "       'HPSI0813i-zexw_3', 'HPSI0814i-bokz_6', 'HPSI0814i-doao_1',\n",
       "       'HPSI0814i-siqu_4', 'HPSI0913i-eika_2', 'HPSI0913i-eorc_2',\n",
       "       'HPSI0913i-iuqb_1', 'HPSI0913i-lise_1', 'HPSI0913i-ruql_3',\n",
       "       'HPSI0914i-euts_3', 'HPSI0914i-iezw_2', 'HPSI0914i-jejf_2',\n",
       "       'HPSI0914i-kajh_2', 'HPSI0914i-laey_6', 'HPSI0914i-ouvb_2',\n",
       "       'HPSI0914i-rejf_2', 'HPSI0914i-suop_5', 'HPSI0914i-vaka_5',\n",
       "       'HPSI0914i-yuvg_2', 'HPSI0914i-zerv_7', 'HPSI1013i-garx_2',\n",
       "       'HPSI1013i-hiaf_1', 'HPSI1013i-jogf_2', 'HPSI1013i-jufd_3',\n",
       "       'HPSI1013i-kuxp_1', 'HPSI1013i-sita_1', 'HPSI1013i-woci_1',\n",
       "       'HPSI1013i-wopl_2', 'HPSI1013i-zagm_1', 'HPSI1014i-babz_3',\n",
       "       'HPSI1014i-bilx_1', 'HPSI1014i-boss_1', 'HPSI1014i-eesb_1',\n",
       "       'HPSI1014i-kefb_1', 'HPSI1014i-nosn_1', 'HPSI1014i-qayj_4',\n",
       "       'HPSI1014i-quls_2', 'HPSI1014i-roug_3', 'HPSI1014i-sehl_6',\n",
       "       'HPSI1014i-tixi_4', 'HPSI1014i-tuju_1', 'HPSI1014i-vils_1',\n",
       "       'HPSI1113i-bima_1', 'HPSI1113i-hayt_3', 'HPSI1113i-ieki_3',\n",
       "       'HPSI1113i-podx_1', 'HPSI1113i-qolg_1', 'HPSI1113i-qorq_1',\n",
       "       'HPSI1113i-vuud_2', 'HPSI1114i-kuul_1', 'HPSI1114i-ualf_6',\n",
       "       'HPSI1114i-zuuy_4', 'HPSI1213i-hehd_1', 'HPSI1213i-tolg_4'],\n",
       "      dtype=object)"
      ]
     },
     "execution_count": 47,
     "metadata": {},
     "output_type": "execute_result"
    }
   ],
   "source": [
    "(np.unique(adata.obs.donor_id))"
   ]
  },
  {
   "cell_type": "code",
   "execution_count": 21,
   "id": "fa92d85e-a408-4d2f-9296-25fc390dc751",
   "metadata": {},
   "outputs": [
    {
     "data": {
      "text/plain": [
       "array(['Astro', 'DA', 'Epen1', 'Epen2', 'FPP', 'NB', 'P_FPP', 'P_Sert',\n",
       "       'Sert', 'U_Neur1', 'U_Neur2', 'U_Neur3'], dtype=object)"
      ]
     },
     "execution_count": 21,
     "metadata": {},
     "output_type": "execute_result"
    }
   ],
   "source": [
    "(np.unique(adata.obs.celltype))"
   ]
  },
  {
   "cell_type": "code",
   "execution_count": 15,
   "id": "9627e38d-c4b6-476a-813a-d34a64a155c9",
   "metadata": {},
   "outputs": [],
   "source": [
    "bdata = adata[adata.obs.donor_id == \"HPSI0514i-fiaj_1\"]"
   ]
  },
  {
   "cell_type": "code",
   "execution_count": 44,
   "id": "92149e0a-ad74-4bd5-82fd-90dcc900cb33",
   "metadata": {},
   "outputs": [
    {
     "data": {
      "text/plain": [
       "5174.4976"
      ]
     },
     "execution_count": 44,
     "metadata": {},
     "output_type": "execute_result"
    }
   ],
   "source": [
    "np.max(bdata.X)"
   ]
  },
  {
   "cell_type": "code",
   "execution_count": 17,
   "id": "53dbd5d9-da54-4d7f-8493-09e57e947f84",
   "metadata": {},
   "outputs": [
    {
     "name": "stderr",
     "output_type": "stream",
     "text": [
      "/u/s/y/syan58/miniconda3/envs/network/lib/python3.11/site-packages/scanpy/preprocessing/_simple.py:278: ImplicitModificationWarning: Trying to modify attribute `.var` of view, initializing view as actual.\n",
      "  adata.var[\"n_cells\"] = number\n"
     ]
    }
   ],
   "source": [
    "sc.pp.filter_genes(bdata, min_cells=0.02*bdata.n_obs)"
   ]
  },
  {
   "cell_type": "code",
   "execution_count": 16,
   "id": "cf1ac831-1eb8-4f3a-ba5d-f7096655494c",
   "metadata": {},
   "outputs": [
    {
     "data": {
      "text/plain": [
       "View of AnnData object with n_obs × n_vars = 12100 × 32738\n",
       "    obs: 'sample_index', 'sample_id', 'donor_id', 'cluster_id', 'celltype', 'time_point', 'pool_id', 'treatment'\n",
       "    obsm: 'X_umap'"
      ]
     },
     "execution_count": 16,
     "metadata": {},
     "output_type": "execute_result"
    }
   ],
   "source": [
    "bdata"
   ]
  },
  {
   "cell_type": "code",
   "execution_count": 18,
   "id": "b855e933-ded5-4720-a202-af96ec06e3c1",
   "metadata": {},
   "outputs": [
    {
     "data": {
      "text/plain": [
       "AnnData object with n_obs × n_vars = 12100 × 12721\n",
       "    obs: 'sample_index', 'sample_id', 'donor_id', 'cluster_id', 'celltype', 'time_point', 'pool_id', 'treatment'\n",
       "    var: 'n_cells'\n",
       "    obsm: 'X_umap'"
      ]
     },
     "execution_count": 18,
     "metadata": {},
     "output_type": "execute_result"
    }
   ],
   "source": [
    "bdata"
   ]
  },
  {
   "cell_type": "code",
   "execution_count": 53,
   "id": "411ed4c8-eb73-4c76-b527-f20257250c31",
   "metadata": {},
   "outputs": [],
   "source": [
    "sc.pp.log1p(bdata)"
   ]
  },
  {
   "cell_type": "code",
   "execution_count": 54,
   "id": "f0e3514e-c861-43c7-b885-3b2f16ae3ea9",
   "metadata": {},
   "outputs": [],
   "source": [
    "sc.pp.highly_variable_genes(bdata, n_top_genes=5000, inplace=True)"
   ]
  },
  {
   "cell_type": "code",
   "execution_count": 58,
   "id": "775314ac-4806-41b0-9ca3-6fe0bf1006ed",
   "metadata": {},
   "outputs": [],
   "source": [
    "bdata = bdata[:,bdata.var['highly_variable']]"
   ]
  },
  {
   "cell_type": "code",
   "execution_count": 55,
   "id": "0eb39507-88a5-4334-9c92-54c5400c0341",
   "metadata": {},
   "outputs": [
    {
     "data": {
      "text/plain": [
       "5000"
      ]
     },
     "execution_count": 55,
     "metadata": {},
     "output_type": "execute_result"
    }
   ],
   "source": [
    "np.sum(bdata.var['highly_variable'])"
   ]
  },
  {
   "cell_type": "code",
   "execution_count": 1,
   "id": "7e08c497-f348-41d2-a12b-7b9ee58cdf91",
   "metadata": {},
   "outputs": [
    {
     "ename": "NameError",
     "evalue": "name 'bdata' is not defined",
     "output_type": "error",
     "traceback": [
      "\u001b[0;31m---------------------------------------------------------------------------\u001b[0m",
      "\u001b[0;31mNameError\u001b[0m                                 Traceback (most recent call last)",
      "Cell \u001b[0;32mIn[1], line 1\u001b[0m\n\u001b[0;32m----> 1\u001b[0m bdata\n",
      "\u001b[0;31mNameError\u001b[0m: name 'bdata' is not defined"
     ]
    }
   ],
   "source": [
    "bdata"
   ]
  },
  {
   "cell_type": "code",
   "execution_count": 76,
   "id": "9ee3167e-4865-421a-9e20-5b5d1d69b491",
   "metadata": {},
   "outputs": [],
   "source": [
    "bdata.write_h5ad(os.path.join(DATA_PATH, \"alltime_fiaj_12100_5000.h5\"))"
   ]
  },
  {
   "cell_type": "code",
   "execution_count": 60,
   "id": "282f7134-dc1e-4cfc-b61d-44963f606773",
   "metadata": {},
   "outputs": [],
   "source": [
    "sio.mmwrite(os.path.join(DATA_PATH, \"alltime_fiaj_12100_5000.mtx\"), bdata.X)"
   ]
  },
  {
   "cell_type": "code",
   "execution_count": 43,
   "id": "39105b77-4756-4467-8075-2deabdf2ad48",
   "metadata": {},
   "outputs": [
    {
     "data": {
      "text/plain": [
       "AnnData object with n_obs × n_vars = 12100 × 12721\n",
       "    obs: 'sample_index', 'sample_id', 'donor_id', 'cluster_id', 'celltype', 'time_point', 'pool_id', 'treatment'\n",
       "    var: 'n_cells'\n",
       "    obsm: 'X_umap'"
      ]
     },
     "execution_count": 43,
     "metadata": {},
     "output_type": "execute_result"
    }
   ],
   "source": [
    "bdata"
   ]
  },
  {
   "cell_type": "code",
   "execution_count": 46,
   "id": "24dd9797-5c3d-4859-9072-5b81b0f95e40",
   "metadata": {},
   "outputs": [
    {
     "data": {
      "image/png": "[encoded data removed]",
      "text/plain": [
       "<Figure size 640x480 with 2 Axes>"
      ]
     },
     "metadata": {},
     "output_type": "display_data"
    }
   ],
   "source": [
    "df = pd.crosstab(bdata.obs.treatment, bdata.obs.celltype)\n",
    "df.loc['Total'] = df.sum()\n",
    "\n",
    "# Create a heatmap\n",
    "sns.heatmap(df, annot=True, fmt='d', cmap='Blues')\n",
    "\n",
    "# Add labels and title\n",
    "plt.xlabel('Time points')\n",
    "plt.ylabel('Cell types')\n",
    "\n",
    "# Display the plot\n",
    "plt.show()"
   ]
  }
 ],
 "metadata": {
  "kernelspec": {
   "display_name": "Python 3 (ipykernel)",
   "language": "python",
   "name": "python3"
  },
  "language_info": {
   "codemirror_mode": {
    "name": "ipython",
    "version": 3
   },
   "file_extension": ".py",
   "mimetype": "text/x-python",
   "name": "python",
   "nbconvert_exporter": "python",
   "pygments_lexer": "ipython3",
   "version": "3.11.8"
  }
 },
 "nbformat": 4,
 "nbformat_minor": 5
}
