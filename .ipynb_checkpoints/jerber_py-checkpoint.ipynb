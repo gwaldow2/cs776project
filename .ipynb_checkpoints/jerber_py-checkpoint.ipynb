{
 "cells": [
  {
   "cell_type": "code",
   "execution_count": 2,
   "id": "817077d3-8b07-487a-8e09-d37a9a202626",
   "metadata": {},
   "outputs": [],
   "source": [
    "import numpy as np\n",
    "from collections import Counter\n",
    "import h5py\n",
    "import numpy as np\n",
    "import pandas as pd\n",
    "import scanpy as sc\n",
    "import scipy.sparse as sp\n",
    "import scipy.io as sio\n",
    "import anndata\n",
    "import json\n",
    "import os\n",
    "import seaborn as sns\n",
    "import matplotlib.pyplot as plt\n",
    "\n",
    "DATA_PATH = \"/storage10/shuchen/JerberData/\"\n",
    "FP_DAY11 = os.path.join(DATA_PATH, \"day11.h5\")\n",
    "FP_DAY30 = os.path.join(DATA_PATH, \"day30.h5\")\n",
    "FP_DAY52 = os.path.join(DATA_PATH, \"day52.h5\")\n",
    "FP_ALLTIME_SUB = os.path.join(DATA_PATH, \"all_timepoints_subsampled.h5\")\n",
    "FP_FIAJ = os.path.join(DATA_PATH, \"alltime_fiaj_12100_5000.h5\")"
   ]
  },
  {
   "cell_type": "code",
   "execution_count": 2,
   "id": "5bfd7d4b-43c5-4d08-b645-908bb42bac64",
   "metadata": {},
   "outputs": [],
   "source": [
    "adata = anndata.read_h5ad(FP_ALLTIME_SUB)"
   ]
  },
  {
   "cell_type": "code",
   "execution_count": 3,
   "id": "fc0b31c3-7271-46a7-bcdb-b317e63e0a54",
   "metadata": {},
   "outputs": [
    {
     "data": {
      "text/plain": [
       "AnnData object with n_obs × n_vars = 205416 × 32738\n",
       "    obs: 'sample_index', 'sample_id', 'donor_id', 'cluster_id', 'celltype', 'time_point', 'pool_id', 'treatment'\n",
       "    obsm: 'X_umap'"
      ]
     },
     "execution_count": 3,
     "metadata": {},
     "output_type": "execute_result"
    }
   ],
   "source": [
    "adata"
   ]
  },
  {
   "cell_type": "code",
   "execution_count": 48,
   "id": "9627e38d-c4b6-476a-813a-d34a64a155c9",
   "metadata": {},
   "outputs": [],
   "source": [
    "bdata = adata[adata.obs.donor_id == \"HPSI0514i-fiaj_1\"]"
   ]
  },
  {
   "cell_type": "code",
   "execution_count": 44,
   "id": "92149e0a-ad74-4bd5-82fd-90dcc900cb33",
   "metadata": {},
   "outputs": [
    {
     "data": {
      "text/plain": [
       "5174.4976"
      ]
     },
     "execution_count": 44,
     "metadata": {},
     "output_type": "execute_result"
    }
   ],
   "source": [
    "np.max(bdata.X)"
   ]
  },
  {
   "cell_type": "code",
   "execution_count": 51,
   "id": "53dbd5d9-da54-4d7f-8493-09e57e947f84",
   "metadata": {},
   "outputs": [
    {
     "name": "stderr",
     "output_type": "stream",
     "text": [
      "/u/s/y/syan58/miniconda3/envs/network/lib/python3.11/site-packages/scanpy/preprocessing/_simple.py:278: ImplicitModificationWarning: Trying to modify attribute `.var` of view, initializing view as actual.\n",
      "  adata.var[\"n_cells\"] = number\n"
     ]
    }
   ],
   "source": [
    "sc.pp.filter_genes(bdata, min_cells=0.02*bdata.n_obs)"
   ]
  },
  {
   "cell_type": "code",
   "execution_count": 52,
   "id": "cf1ac831-1eb8-4f3a-ba5d-f7096655494c",
   "metadata": {},
   "outputs": [
    {
     "data": {
      "text/plain": [
       "AnnData object with n_obs × n_vars = 12100 × 12721\n",
       "    obs: 'sample_index', 'sample_id', 'donor_id', 'cluster_id', 'celltype', 'time_point', 'pool_id', 'treatment'\n",
       "    var: 'n_cells'\n",
       "    obsm: 'X_umap'"
      ]
     },
     "execution_count": 52,
     "metadata": {},
     "output_type": "execute_result"
    }
   ],
   "source": [
    "bdata"
   ]
  },
  {
   "cell_type": "code",
   "execution_count": 53,
   "id": "411ed4c8-eb73-4c76-b527-f20257250c31",
   "metadata": {},
   "outputs": [],
   "source": [
    "sc.pp.log1p(bdata)"
   ]
  },
  {
   "cell_type": "code",
   "execution_count": 54,
   "id": "f0e3514e-c861-43c7-b885-3b2f16ae3ea9",
   "metadata": {},
   "outputs": [],
   "source": [
    "sc.pp.highly_variable_genes(bdata, n_top_genes=5000, inplace=True)"
   ]
  },
  {
   "cell_type": "code",
   "execution_count": 58,
   "id": "775314ac-4806-41b0-9ca3-6fe0bf1006ed",
   "metadata": {},
   "outputs": [],
   "source": [
    "bdata = bdata[:,bdata.var['highly_variable']]"
   ]
  },
  {
   "cell_type": "code",
   "execution_count": 55,
   "id": "0eb39507-88a5-4334-9c92-54c5400c0341",
   "metadata": {},
   "outputs": [
    {
     "data": {
      "text/plain": [
       "5000"
      ]
     },
     "execution_count": 55,
     "metadata": {},
     "output_type": "execute_result"
    }
   ],
   "source": [
    "np.sum(bdata.var['highly_variable'])"
   ]
  },
  {
   "cell_type": "code",
   "execution_count": 1,
   "id": "7e08c497-f348-41d2-a12b-7b9ee58cdf91",
   "metadata": {},
   "outputs": [
    {
     "ename": "NameError",
     "evalue": "name 'bdata' is not defined",
     "output_type": "error",
     "traceback": [
      "\u001b[0;31m---------------------------------------------------------------------------\u001b[0m",
      "\u001b[0;31mNameError\u001b[0m                                 Traceback (most recent call last)",
      "Cell \u001b[0;32mIn[1], line 1\u001b[0m\n\u001b[0;32m----> 1\u001b[0m bdata\n",
      "\u001b[0;31mNameError\u001b[0m: name 'bdata' is not defined"
     ]
    }
   ],
   "source": [
    "bdata"
   ]
  },
  {
   "cell_type": "code",
   "execution_count": 76,
   "id": "9ee3167e-4865-421a-9e20-5b5d1d69b491",
   "metadata": {},
   "outputs": [],
   "source": [
    "bdata.write_h5ad(os.path.join(DATA_PATH, \"alltime_fiaj_12100_5000.h5\"))"
   ]
  },
  {
   "cell_type": "code",
   "execution_count": 60,
   "id": "282f7134-dc1e-4cfc-b61d-44963f606773",
   "metadata": {},
   "outputs": [],
   "source": [
    "sio.mmwrite(os.path.join(DATA_PATH, \"alltime_fiaj_12100_5000.mtx\"), bdata.X)"
   ]
  },
  {
   "cell_type": "code",
   "execution_count": 12,
   "id": "ed6ba0bd-42e2-4ef9-9f72-d5bdddfe63fb",
   "metadata": {},
   "outputs": [
    {
     "data": {
      "text/plain": [
       "22246272"
      ]
     },
     "execution_count": 12,
     "metadata": {},
     "output_type": "execute_result"
    }
   ],
   "source": [
    "8478*2624"
   ]
  },
  {
   "cell_type": "code",
   "execution_count": 74,
   "id": "44c68735-a5b2-4df7-8e11-8eec5c023d20",
   "metadata": {},
   "outputs": [
    {
     "data": {
      "text/plain": [
       "30"
      ]
     },
     "execution_count": 74,
     "metadata": {},
     "output_type": "execute_result"
    }
   ],
   "source": [
    "len(np.unique(bdata.obs.sample_id))"
   ]
  },
  {
   "cell_type": "code",
   "execution_count": 72,
   "id": "e6bc836e-4def-4545-ab47-d71b8b6e4202",
   "metadata": {},
   "outputs": [
    {
     "data": {
      "text/plain": [
       "array(['Astro', 'DA', 'Epen1', 'Epen2', 'FPP', 'NB', 'P_FPP', 'Sert',\n",
       "       'U_Neur1', 'U_Neur2', 'U_Neur3'], dtype=object)"
      ]
     },
     "execution_count": 72,
     "metadata": {},
     "output_type": "execute_result"
    }
   ],
   "source": [
    "(np.unique(bdata.obs.celltype))"
   ]
  },
  {
   "cell_type": "code",
   "execution_count": null,
   "id": "24dd9797-5c3d-4859-9072-5b81b0f95e40",
   "metadata": {},
   "outputs": [],
   "source": [
    "# batch correction\n",
    "sc.pp.combat(adata, key='pool_id') # not in use, use BBKNN"
   ]
  }
 ],
 "metadata": {
  "kernelspec": {
   "display_name": "Python 3 (ipykernel)",
   "language": "python",
   "name": "python3"
  },
  "language_info": {
   "codemirror_mode": {
    "name": "ipython",
    "version": 3
   },
   "file_extension": ".py",
   "mimetype": "text/x-python",
   "name": "python",
   "nbconvert_exporter": "python",
   "pygments_lexer": "ipython3",
   "version": "3.11.8"
  }
 },
 "nbformat": 4,
 "nbformat_minor": 5
}
